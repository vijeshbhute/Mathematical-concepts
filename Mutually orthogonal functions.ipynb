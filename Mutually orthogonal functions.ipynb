{
 "cells": [
  {
   "cell_type": "markdown",
   "id": "030fec95",
   "metadata": {},
   "source": [
    "## Visualising mutually orthogonal functions\n",
    "Author: Dr. Vijesh Bhute <br>\n",
    "The objective of this notebook is to generate interactive plots to show the mutually orthogonal nature of sines and cosines in $-\\pi $ to $\\pi$. "
   ]
  },
  {
   "cell_type": "markdown",
   "id": "1c4e5b9a",
   "metadata": {},
   "source": [
    "### Step 1: Import libraries"
   ]
  },
  {
   "cell_type": "code",
   "execution_count": 11,
   "id": "2ec9a9f5",
   "metadata": {},
   "outputs": [],
   "source": [
    "import pandas as pd\n",
    "import numpy as np\n",
    "import matplotlib.pyplot as plt\n",
    "%matplotlib inline\n",
    "from pylab import *\n",
    "from scipy import *\n",
    "from ipywidgets import interact, FloatSlider"
   ]
  },
  {
   "cell_type": "markdown",
   "id": "df9e2817",
   "metadata": {},
   "source": [
    "### Step 2: Plotting product of sines in $-\\pi$ to $\\pi$"
   ]
  },
  {
   "cell_type": "code",
   "execution_count": 21,
   "id": "efb0f1b3",
   "metadata": {
    "scrolled": false
   },
   "outputs": [
    {
     "data": {
      "application/vnd.jupyter.widget-view+json": {
       "model_id": "10e9df6cfb6d4025b8db7c9a24cc9b6e",
       "version_major": 2,
       "version_minor": 0
      },
      "text/plain": [
       "interactive(children=(FloatSlider(value=3.0, description='n', max=10.0, min=1.0, step=1.0), FloatSlider(value=…"
      ]
     },
     "metadata": {},
     "output_type": "display_data"
    }
   ],
   "source": [
    "def plot_sinProduct(n,m):\n",
    "    ## Plot parameters\n",
    "    xmin, xmax, nx = -np.pi, np.pi, 300\n",
    "    ymin, ymax     = -1.5, 1.5\n",
    "\n",
    "    ## Plot the figure\n",
    "    x = linspace(xmin, xmax, nx)\n",
    "    y = np.sin(n*x) * np.sin(m*x)\n",
    "    plt.figure(figsize=(6,3))\n",
    "    plt.plot(x, y, linewidth=2, label = 'sin({}x)sin({}x)'.format(n,m))\n",
    "    plt.legend(loc='best')\n",
    "    \n",
    "    ## Set up the figure axes\n",
    "    plt.xlim(xmin, xmax)\n",
    "    plt.ylim(ymin, ymax)\n",
    "    plt.xlabel('x')\n",
    "    plt.ylabel('y')\n",
    "    axhline(0, color='black')\n",
    "    axvline(0,color='black')\n",
    "\n",
    "## Generate our user interface.\n",
    "interact(plot_sinProduct, n=FloatSlider(min=1, max=10, step=1, value=3), \n",
    "         m = FloatSlider(min=1, max=10, step=1, value=1));"
   ]
  },
  {
   "cell_type": "markdown",
   "id": "fc5e5862",
   "metadata": {},
   "source": [
    "### Step 3: Plotting cosine and product of cosines in $-\\pi$ to $\\pi$"
   ]
  },
  {
   "cell_type": "code",
   "execution_count": 23,
   "id": "5476db49",
   "metadata": {},
   "outputs": [
    {
     "data": {
      "application/vnd.jupyter.widget-view+json": {
       "model_id": "4ed8cbd31c7141589b039d7f5acf7d3e",
       "version_major": 2,
       "version_minor": 0
      },
      "text/plain": [
       "interactive(children=(FloatSlider(value=3.0, description='n', max=10.0, step=1.0), FloatSlider(value=1.0, desc…"
      ]
     },
     "metadata": {},
     "output_type": "display_data"
    }
   ],
   "source": [
    "def plot_cosProduct(n,m):\n",
    "    ## Plot parameters\n",
    "    xmin, xmax, nx = -np.pi, np.pi, 300\n",
    "    ymin, ymax     = -1.5, 1.5\n",
    "\n",
    "    ## Plot the figure\n",
    "    x = linspace(xmin, xmax, nx)\n",
    "    y = np.cos(n*x) * np.cos(m*x)\n",
    "    plt.figure(figsize=(6,3))\n",
    "    plt.plot(x, y, linewidth=2, label = 'cos({}x)cos({}x)'.format(n,m))\n",
    "    plt.legend(loc='best')\n",
    "    \n",
    "    ## Set up the figure axes, etc.\n",
    "    #plt.title(\"y = cos(x + phi)\")\n",
    "    plt.xlim(xmin, xmax)\n",
    "    plt.ylim(ymin, ymax)\n",
    "    plt.xlabel('x')\n",
    "    plt.ylabel('y')\n",
    "    axhline(0, color='black')\n",
    "    axvline(0,color='black')\n",
    "\n",
    "## Generate our user interface.\n",
    "interact(plot_cosProduct, n=FloatSlider(min=0, max=10, step=1, value=3), \n",
    "         m = FloatSlider(min=1, max=10, step=1, value=1));\n",
    "\n",
    "#Slider for n can be kept at 0 to plot just cosines"
   ]
  },
  {
   "cell_type": "markdown",
   "id": "c0e699c9",
   "metadata": {},
   "source": [
    "### Step 4: Plotting product of sines and cosines in $-\\pi$ to $\\pi$"
   ]
  },
  {
   "cell_type": "code",
   "execution_count": 26,
   "id": "dadbe77a",
   "metadata": {},
   "outputs": [
    {
     "data": {
      "application/vnd.jupyter.widget-view+json": {
       "model_id": "84a5eeb9fefa43e5887600dd44e0860c",
       "version_major": 2,
       "version_minor": 0
      },
      "text/plain": [
       "interactive(children=(FloatSlider(value=3.0, description='n', max=10.0, min=1.0, step=1.0), FloatSlider(value=…"
      ]
     },
     "metadata": {},
     "output_type": "display_data"
    }
   ],
   "source": [
    "def plot_sincosProduct(n,m):\n",
    "    ## Plot parameters\n",
    "    xmin, xmax, nx = -np.pi, np.pi, 300\n",
    "    ymin, ymax     = -1.5, 1.5\n",
    "\n",
    "    ## Plot the figure\n",
    "    x = linspace(xmin, xmax, nx)\n",
    "    y = np.sin(n*x) * np.cos(m*x)\n",
    "    plt.figure(figsize=(6,3))\n",
    "    plt.plot(x, y, linewidth=2, label = 'sin({}x)cos({}x)'.format(n,m))\n",
    "    plt.legend(loc='best')\n",
    "    \n",
    "    ## Set up the figure axes, etc.\n",
    "    #plt.title(\"y = cos(x + phi)\")\n",
    "    plt.xlim(xmin, xmax)\n",
    "    plt.ylim(ymin, ymax)\n",
    "    plt.xlabel('x')\n",
    "    plt.ylabel('y')\n",
    "    axhline(0, color='black')\n",
    "    axvline(0,color='black')\n",
    "\n",
    "## Generate our user interface.\n",
    "interact(plot_sincosProduct, n=FloatSlider(min=1, max=10, step=1, value=3), \n",
    "         m = FloatSlider(min=0, max=10, step=1, value=1));\n",
    "\n",
    "#Slider for m can be kept at 0 to plot just sines"
   ]
  },
  {
   "cell_type": "code",
   "execution_count": null,
   "id": "670b5d8c",
   "metadata": {},
   "outputs": [],
   "source": []
  }
 ],
 "metadata": {
  "kernelspec": {
   "display_name": "Python 3 (ipykernel)",
   "language": "python",
   "name": "python3"
  },
  "language_info": {
   "codemirror_mode": {
    "name": "ipython",
    "version": 3
   },
   "file_extension": ".py",
   "mimetype": "text/x-python",
   "name": "python",
   "nbconvert_exporter": "python",
   "pygments_lexer": "ipython3",
   "version": "3.8.8"
  }
 },
 "nbformat": 4,
 "nbformat_minor": 5
}
