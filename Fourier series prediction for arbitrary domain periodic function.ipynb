{
 "cells": [
  {
   "cell_type": "markdown",
   "metadata": {},
   "source": [
    "## Fourier series for periodic functions in arbitrary domains\n",
    "Author: Dr. Vijesh Bhute <br>\n",
    "The objective of this notebook is to generate interactive plots to show Fourier series can be used to predict a function which is periodic in any arbitrary domain. "
   ]
  },
  {
   "cell_type": "markdown",
   "metadata": {},
   "source": [
    "### Step 1: Import libraries"
   ]
  },
  {
   "cell_type": "code",
   "execution_count": 1,
   "metadata": {},
   "outputs": [],
   "source": [
    "import pandas as pd\n",
    "import numpy as np\n",
    "import matplotlib.pyplot as plt\n",
    "%matplotlib inline\n",
    "from pylab import *\n",
    "from scipy import *\n",
    "from ipywidgets import interact, FloatSlider"
   ]
  },
  {
   "cell_type": "code",
   "execution_count": 4,
   "metadata": {},
   "outputs": [
    {
     "data": {
      "application/vnd.jupyter.widget-view+json": {
       "model_id": "60ac673707764b84b27c0292dc646826",
       "version_major": 2,
       "version_minor": 0
      },
      "text/plain": [
       "interactive(children=(FloatSlider(value=1.0, description='nTerms', max=20.0, min=1.0, step=1.0), Output()), _d…"
      ]
     },
     "metadata": {},
     "output_type": "display_data"
    }
   ],
   "source": [
    "## Plot parameters\n",
    "xmin, xmax, nx = -5, 5, 300\n",
    "ymin, ymax     = -1.5, 4\n",
    "def f(x):\n",
    "    return (x-1) % (2)+1 \n",
    "\n",
    "def fourierF(x,nTerms):    \n",
    "    a = 1\n",
    "    b = 3\n",
    "    period = b-a\n",
    "    halfPeriod = period/2\n",
    "    mid = (a+b)/2\n",
    "    commonArg = np.pi/halfPeriod * (x-mid)\n",
    "    value = 2\n",
    "    for i in np.arange(1,nTerms+1,1):\n",
    "        value =  value + 2*((-1)**(i+1))/(i*np.pi) * (np.sin(i*commonArg))\n",
    "    return value\n",
    "\n",
    "\n",
    "## Plot the figure\n",
    "def compareFourier(nTerms):\n",
    "    x = linspace(xmin, xmax, nx)\n",
    "    y= f(x)\n",
    "    y2 = fourierF(x,nTerms)\n",
    "    plt.figure(figsize=(8,5))\n",
    "    plt.plot(x, y, linewidth=2, label = 'Target')\n",
    "    plt.plot(x, y2, linewidth=2, label = 'Fourier ({} terms)'.format(nTerms))\n",
    "    plt.legend(loc='best')\n",
    "    ## Set up the figure axes\n",
    "    plt.xlim(xmin, xmax)\n",
    "    plt.ylim(ymin, ymax)\n",
    "    plt.xlabel('x')\n",
    "    plt.ylabel('y')\n",
    "    axhline(0, color='black')\n",
    "    axvline(0,color='black')\n",
    "\n",
    "## Generate our user interface.\n",
    "interact(compareFourier, nTerms=FloatSlider(min=1, max=20, step=1, value=1));"
   ]
  },
  {
   "cell_type": "code",
   "execution_count": null,
   "metadata": {},
   "outputs": [],
   "source": []
  }
 ],
 "metadata": {
  "kernelspec": {
   "display_name": "Python 3",
   "language": "python",
   "name": "python3"
  },
  "language_info": {
   "codemirror_mode": {
    "name": "ipython",
    "version": 3
   },
   "file_extension": ".py",
   "mimetype": "text/x-python",
   "name": "python",
   "nbconvert_exporter": "python",
   "pygments_lexer": "ipython3",
   "version": "3.6.5"
  }
 },
 "nbformat": 4,
 "nbformat_minor": 2
}
