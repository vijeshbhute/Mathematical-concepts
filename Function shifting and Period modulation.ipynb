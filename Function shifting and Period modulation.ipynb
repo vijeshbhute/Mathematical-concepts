{
 "cells": [
  {
   "cell_type": "markdown",
   "metadata": {},
   "source": [
    "## Translating functions along $x$ axis and modulating period for periodic functions\n",
    "Author: Dr. Vijesh Bhute <br>\n",
    "The objective of this notebook is to generate interactive plots to show how argument of a function affects its location and period. "
   ]
  },
  {
   "cell_type": "markdown",
   "metadata": {},
   "source": [
    "### Step 1: Import libraries"
   ]
  },
  {
   "cell_type": "code",
   "execution_count": 1,
   "metadata": {},
   "outputs": [],
   "source": [
    "import pandas as pd\n",
    "import numpy as np\n",
    "import matplotlib.pyplot as plt\n",
    "%matplotlib inline\n",
    "from pylab import *\n",
    "from scipy import *\n",
    "from ipywidgets import interact, FloatSlider"
   ]
  },
  {
   "cell_type": "code",
   "execution_count": 4,
   "metadata": {},
   "outputs": [
    {
     "data": {
      "application/vnd.jupyter.widget-view+json": {
       "model_id": "f3c1565ce1be4919a69266bae8f0e288",
       "version_major": 2,
       "version_minor": 0
      },
      "text/plain": [
       "interactive(children=(FloatSlider(value=3.0, description='A', max=10.0, min=1.0, step=1.0), FloatSlider(value=…"
      ]
     },
     "metadata": {},
     "output_type": "display_data"
    }
   ],
   "source": [
    "def plot_shift(A, phi):\n",
    "    ## Plot parameters\n",
    "    xmin, xmax, nx = -np.pi, np.pi, 300\n",
    "    ymin, ymax     = -1.5, 1.5\n",
    "\n",
    "    ## Plot the figure\n",
    "    x = linspace(xmin, xmax, nx)\n",
    "    y = np.sin(A*(x-phi))\n",
    "    plt.figure(figsize=(6,3))\n",
    "    plt.plot(x, y, linewidth=2, label = 'sin({}(x-{}))'.format(A,phi))\n",
    "    plt.legend(loc='best')\n",
    "    \n",
    "    ## Set up the figure axes\n",
    "    plt.xlim(xmin, xmax)\n",
    "    plt.ylim(ymin, ymax)\n",
    "    plt.xlabel('x')\n",
    "    plt.ylabel('y')\n",
    "    axhline(0, color='black')\n",
    "    axvline(0,color='black')\n",
    "\n",
    "## Generate our user interface.\n",
    "interact(plot_shift, A=FloatSlider(min=1, max=10, step=1, value=3), \n",
    "         phi = FloatSlider(min=0, max=2*np.pi, step=np.pi/6, value= 0));"
   ]
  }
 ],
 "metadata": {
  "kernelspec": {
   "display_name": "Python 3",
   "language": "python",
   "name": "python3"
  },
  "language_info": {
   "codemirror_mode": {
    "name": "ipython",
    "version": 3
   },
   "file_extension": ".py",
   "mimetype": "text/x-python",
   "name": "python",
   "nbconvert_exporter": "python",
   "pygments_lexer": "ipython3",
   "version": "3.6.5"
  }
 },
 "nbformat": 4,
 "nbformat_minor": 5
}
